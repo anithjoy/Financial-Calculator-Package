{
 "cells": [
  {
   "cell_type": "code",
   "execution_count": 113,
   "id": "54cc11c3",
   "metadata": {},
   "outputs": [],
   "source": [
    "class finpy:\n",
    "\n",
    "    def __init__(): # datax, datay\n",
    "        pass\n",
    "    \n",
    "    # Present and Future value functions based on PV/FV\n",
    "\n",
    "    def pv_one(fv, rate, periods):\n",
    "        \"Function made to calculate the present value of a single sum using the future value, interest rate and periods input by the user\"\n",
    "        try:\n",
    "            if fv < 0 or rate < 0 or periods < 0:\n",
    "                raise ValueError(\"Please enter positive values for fv, rate, and periods.\")\n",
    "\n",
    "            if not 0 <= rate <= 1:\n",
    "                raise ValueError(\"Rate should be expressed as a decimal between 0 and 1.\")\n",
    "\n",
    "            pv = round(fv / (1 + rate)**periods, 2)\n",
    "            return pv\n",
    "        except ValueError as ve:\n",
    "            return f\"Error: {ve}\"\n",
    "\n",
    "    def fv_one(pv, rate, periods):\n",
    "        \"Function made to calculate the future value of a single sum using the present value, interest rate and periods input by the user\"\n",
    "        try:\n",
    "            if pv < 0 or rate < 0 or periods < 0:\n",
    "                raise ValueError(\"Please enter positive values for pv, rate, and periods.\")\n",
    "\n",
    "            if not 0 <= rate <= 1:\n",
    "                raise ValueError(\"Rate should be expressed as a decimal between 0 and 1.\")\n",
    "\n",
    "            fv= round(pv * (1 + rate)**periods,2)\n",
    "\n",
    "            return fv\n",
    "        except ValueError as ve:\n",
    "            return f\"Error: {ve}\"\n",
    "        \n",
    "    # Basic Annuity functions\n",
    "\n",
    "    def pv_ordinary_annuity(pmt, rate, periods):\n",
    "        \"Function made to calculate the present value of an ordinary annuity using payments, interest rate, and total periods\"\n",
    "        try:\n",
    "            if pmt < 0 or rate < 0 or periods < 0:\n",
    "                raise ValueError(\"Please enter positive values for payment, rate, and periods.\")\n",
    "\n",
    "            if not 0 <= rate <= 1:\n",
    "                raise ValueError(\"Rate should be expressed as a decimal between 0 and 1.\")\n",
    "\n",
    "            pv = round((pmt/rate)*(1-1/(1+rate)**periods),2)\n",
    "\n",
    "            return pv\n",
    "        except ValueError as ve:\n",
    "            return f\"Error: {ve}\"\n",
    "\n",
    "    def fv_ordinary_annuity(pmt, rate, periods):\n",
    "        \"Function made to calculate the future value of an ordinary annuity using payments, interest rate, and total periods\"\n",
    "        try:\n",
    "            if pmt < 0 or rate < 0 or periods < 0:\n",
    "                raise ValueError(\"Please enter positive values for payment, rate, and periods.\")\n",
    "\n",
    "            if not 0 <= rate <= 1:\n",
    "                raise ValueError(\"Rate should be expressed as a decimal between 0 and 1.\")\n",
    "\n",
    "            fv = round(((pmt/rate)*((1+rate)**periods-1)),2)\n",
    "\n",
    "            return fv\n",
    "        except ValueError as ve:\n",
    "            return f\"Error: {ve}\" \n",
    "\n",
    "    # Functions to calculate Annuity payments \n",
    "\n",
    "    def pv_annuity_due(pmt, rate, periods):\n",
    "        \"Function made to calculate the present value of an annuity due using payments, interest rate, and total periods\"\n",
    "        try:\n",
    "            if pmt < 0 or rate < 0 or periods < 0:\n",
    "                raise ValueError(\"Please enter positive values for payment, rate, and periods.\")\n",
    "\n",
    "            if not 0 <= rate <= 1:\n",
    "                raise ValueError(\"Rate should be expressed as a decimal between 0 and 1.\")\n",
    "\n",
    "            pv = round((pmt/rate)*(1-1/(1+rate)**(periods))*(1+rate),2)\n",
    "            return pv\n",
    "        except ValueError as ve:\n",
    "            return f\"Error: {ve}\"\n",
    "\n",
    "    def fv_annuity_due(pmt, rate, periods):\n",
    "        \"Function made to calculate the future value of an annuity due using payments, interest rate, and total periods\"\n",
    "        try:\n",
    "            if pmt < 0 or rate < 0 or periods < 0:\n",
    "                raise ValueError(\"Please enter positive values for payment, rate, and periods.\")\n",
    "\n",
    "            if not 0 <= rate <= 1:\n",
    "                raise ValueError(\"Rate should be expressed as a decimal between 0 and 1.\")\n",
    "\n",
    "            fv = round(((pmt/rate)*((1+rate)**periods-1))*(1+rate),2)\n",
    "\n",
    "            return fv\n",
    "        except ValueError as ve:\n",
    "            return f\"Error: {ve}\"\n",
    "        \n",
    "    #Growing Annuity function\n",
    "\n",
    "    def growing_annuity(initial_cash_flow, rate, growth_rate, periods):\n",
    "        \"Function to calculate the present value of a growing annuity\"\n",
    "        try:\n",
    "            if initial_cash_flow < 0 or rate < 0 or growth_rate < 0 or periods < 0:\n",
    "                raise ValueError(\"Please enter positive values for initial cash flow, rate, growth rate, and periods.\")\n",
    "            if not (0 <= rate <= 1 and 0 <= growth_rate <= 1):\n",
    "                raise ValueError(\"Rates should be expressed as a decimal between 0 and 1.\")\n",
    "\n",
    "            pv = initial_cash_flow / (rate - growth_rate) * (1 - ((1 + growth_rate) / (1 + rate))**periods)\n",
    "            return round(pv, 2)\n",
    "\n",
    "        except ValueError as ve:\n",
    "            return f\"Error: {ve}\"\n",
    "        \n",
    "    #Perpetuity functions\n",
    "\n",
    "    def perpetuity(cash_flow, rate):\n",
    "        \"\"\"\n",
    "        Function to calculate the present value of a perpetuity.\n",
    "        \"\"\"\n",
    "        try:\n",
    "            if rate == 0:\n",
    "                raise ValueError(\"Discount rate cannot be zero for perpetuity calculation\")\n",
    "            return round(cash_flow / rate, 2)\n",
    "        except ValueError as ve:\n",
    "            return f\"Error: {ve}\"\n",
    "\n",
    "    def growing_perpetuity(initial_cash_flow, rate, growth_rate):\n",
    "        \"\"\"\n",
    "        Function to calculate the present value of a growing perpetuity.\n",
    "        \"\"\"\n",
    "        try:\n",
    "            if rate <= growth_rate:\n",
    "                raise ValueError(\"Discount rate must be greater than the growth rate for a growing perpetuity\")\n",
    "            return round(initial_cash_flow / (rate - growth_rate), 2)\n",
    "        except ValueError as ve:\n",
    "            return f\"Error: {ve}\"\n",
    "\n",
    "\n",
    "        \n",
    "    #NPV of a Cash Flow, Payback Period, and Probability Index functions\n",
    "\n",
    "    def cash_flow_analysis(initial_investment, cash_flows, discount_rate):\n",
    "        \"\"\"\n",
    "        Function to perform cash flow analysis on potential investment projects.\n",
    "        \"\"\"\n",
    "        try:\n",
    "            if discount_rate <= 0:\n",
    "                raise ValueError(\"Discount rate must be greater than zero for cash flow analysis\")\n",
    "\n",
    "            npv = -initial_investment  # Initial outflow\n",
    "            for t, cash_flow in enumerate(cash_flows, start=1):\n",
    "                if t <= 0:\n",
    "                    raise ValueError(\"Time periods must be positive integers for cash flow analysis\")\n",
    "                npv += cash_flow / (1 + discount_rate) ** t\n",
    "            return round(npv, 2)\n",
    "        except ValueError as ve:\n",
    "            return f\"Error: {ve}\"\n",
    "        \n",
    "    \n",
    "    def payback_period(initial_investment, annual_cash_flow):\n",
    "        \"\"\"\n",
    "        Calculate PayBackPeriod\n",
    "\n",
    "        Parameters:\n",
    "        initialInvestment (int/float)\n",
    "        annualCashFlow (float/int)\n",
    "\n",
    "        return PayBackPeriod (float/int)\n",
    "\n",
    "        \"\"\"\n",
    "        try:\n",
    "            # error checking \n",
    "\n",
    "            # initialInvestment\n",
    "            if not (isinstance(initial_investment,int) or isinstance(initial_investment,float)):\n",
    "                raise TypeError(\"Initial investment must be in type Int or Float\")\n",
    "            \n",
    "            if initial_investment <= 0:\n",
    "                raise ValueError(\"Initial investment must  positive\")\n",
    "            \n",
    "            # annualCashFlow\n",
    "            if not isinstance(annual_cash_flow,(int,float)):\n",
    "                    raise TypeError(\"Each element of cash flows must be an int or float\")\n",
    "                \n",
    "            #if annual_cash_flow <= 0:\n",
    "                #raise ValueError(\"Each element of cashInFlow must  be greater than zero\")\n",
    "        \n",
    "            # OEPRATIONAL\n",
    "            return round(initial_investment/ annual_cash_flow,2)\n",
    "        \n",
    "        except Exception as e:\n",
    "            print(f\"Error:{e}\")\n",
    "            return None\n",
    "    \n",
    "    def probability_index(initial_investment,cash_flow, discount_rate):\n",
    "        \"\"\"\n",
    "        Calculate Probability Index\n",
    "\n",
    "        Parameters:\n",
    "        initialInvestment (int/float) \n",
    "        cashInFlow List[int/float]\n",
    "        discountRate (int/float)\n",
    "\n",
    "        return PI(Int/float)\n",
    "        \"\"\"\n",
    "        try:\n",
    "            # error checking \n",
    "\n",
    "            # initialInvestment\n",
    "            if not (isinstance(initial_investment,int) or isinstance(initial_investment,float)):\n",
    "                raise TypeError(\"Initial investment must be in type Int or Float\")\n",
    "            \n",
    "            if initial_investment <= 0:\n",
    "                raise ValueError(\"Initial investment must  positive\")\n",
    "\n",
    "            \n",
    "            # cashInFlow\n",
    "            if not(isinstance(cash_flow, list)):\n",
    "                raise TypeError(\"Cash flows must be List data type\")\n",
    "            \n",
    "            for element in cash_flow:\n",
    "\n",
    "                if not isinstance(element,(int,float)):\n",
    "                    raise TypeError(\"Each element of cash flows must be an int or float\")\n",
    "                \n",
    "                #if element <= 0:\n",
    "                    #raise ValueError(\"Each element of cashInFlow must  be greater than zero\")\n",
    "                \n",
    "            # discountRate\n",
    "            if not isinstance(discount_rate,(int,float)):\n",
    "                raise TypeError(\"Discount rate must be an int or float\")\n",
    "            \n",
    "            if discount_rate < 0 or discount_rate > 1:\n",
    "                raise ValueError(\"Discount rate should be expressed as a decimal between 0 and 1. Eg- 0.10 for 10%\")\n",
    "\n",
    "\n",
    "            # operation\n",
    "            time_period = len(cash_flow)\n",
    "\n",
    "            res = 0\n",
    "\n",
    "            for i in range(time_period):\n",
    "                res += cash_flow[i] / ((1 + discount_rate) ** (i+1))\n",
    "\n",
    "            res = res/initial_investment\n",
    "\n",
    "            return round(res,2)\n",
    "        except Exception as e:\n",
    "            return(f\"Error:{e}\")\n",
    "          \n",
    "    #Loan/Annuity Payment functions\n",
    "\n",
    "    def annuity_payment(principal, rate, periods):\n",
    "        \"\"\"Function to calculate periodic payments given a loan amount and time period\"\"\"\n",
    "        try:\n",
    "            if principal < 0 or rate < 0 or periods < 0:\n",
    "                raise ValueError(\"Please enter positive values for principal, rate, and periods.\")\n",
    "\n",
    "            if not 0 <= rate <= 1:\n",
    "                raise ValueError(\"Rate should be expressed as a decimal between 0 and 1.\")\n",
    "\n",
    "            payment = round(principal / (1/rate * (1 - 1 / (1+rate)**periods)),2)\n",
    "\n",
    "            return payment\n",
    "        except ValueError as ve:\n",
    "            return f\"Error: {ve}\"    \n",
    "    \n",
    "    def total_interest_paid(loan_payment, num_payments, principal):\n",
    "        \"\"\"\n",
    "        calculate total interest paid\n",
    "\n",
    "        parameters:\n",
    "        loan_payment (int/float)\n",
    "        numPayments (int/float)\n",
    "        principal (int/float)\n",
    "\n",
    "        return total_interestPaid\n",
    "        \"\"\"\n",
    "\n",
    "        try:\n",
    "            # error checking \n",
    "            # loan_payment\n",
    "            if not isinstance(loan_payment,(int,float)):\n",
    "                        raise TypeError(\"loan_payment should be in int or float data type\")\n",
    "        \n",
    "            if loan_payment <= 0:\n",
    "                raise ValueError(\"loan_payment must be positive\")\n",
    "            # numPayments\n",
    "            if not isinstance(num_payments,(int,float)):\n",
    "                        raise TypeError(\"numPayments should be in int or float data type\")\n",
    "        \n",
    "            if num_payments <= 0:\n",
    "                raise ValueError(\"numPayments must be positive\")\n",
    "            \n",
    "            # principal\n",
    "            if not isinstance(principal,(int,float)):\n",
    "                        raise TypeError(\"principal should be in int or float data type\")\n",
    "        \n",
    "            if principal <= 0:\n",
    "                raise ValueError(\"principal must  positive\")\n",
    "\n",
    "            return round((loan_payment * num_payments) - principal, 2)\n",
    "        except Exception as e:\n",
    "            return(f\"Error:{e}\")\n",
    "\n",
    "    def total_payments(loan_payment, num_payments):\n",
    "\n",
    "        \"\"\"\n",
    "            calculate total payments\n",
    "\n",
    "            parameters:\n",
    "            loan_payment (int/float)\n",
    "            numPayments (int/float)\n",
    "            \n",
    "\n",
    "            return total_payment(int/float)\n",
    "            \"\"\"\n",
    "        \n",
    "        try:\n",
    "            # error checking \n",
    "            # loan_payment\n",
    "            if not isinstance(loan_payment,(int,float)):\n",
    "                        raise TypeError(\"loan_payment should be in int or float data type\")\n",
    "        \n",
    "            if loan_payment <= 0:\n",
    "                raise ValueError(\"loan_payment must be positive\")\n",
    "            # numPayments\n",
    "            if not isinstance(num_payments,(int,float)):\n",
    "                        raise TypeError(\"numPayments should be in int or float data type\")\n",
    "        \n",
    "            if num_payments <= 0:\n",
    "                raise ValueError(\"numPayments must be positive\")\n",
    "            total_payments = loan_payment * num_payments\n",
    "            return total_payments\n",
    "        except Exception as e:\n",
    "            return(f\"Error:{e}\")"
   ]
  },
  {
   "cell_type": "markdown",
   "id": "135dff0c",
   "metadata": {},
   "source": [
    "Present and Future value functions based on PV/FV"
   ]
  },
  {
   "cell_type": "code",
   "execution_count": 97,
   "id": "6dab8fa7",
   "metadata": {},
   "outputs": [
    {
     "data": {
      "text/plain": [
       "6209.21"
      ]
     },
     "execution_count": 97,
     "metadata": {},
     "output_type": "execute_result"
    }
   ],
   "source": [
    "finpy.pv_one(10000, 0.1, 5)"
   ]
  },
  {
   "cell_type": "code",
   "execution_count": 98,
   "id": "8a9571b1",
   "metadata": {},
   "outputs": [
    {
     "data": {
      "text/plain": [
       "1210.0"
      ]
     },
     "execution_count": 98,
     "metadata": {},
     "output_type": "execute_result"
    }
   ],
   "source": [
    "finpy.fv_one(1000, 0.1, 2)"
   ]
  },
  {
   "cell_type": "code",
   "execution_count": 106,
   "id": "182d1e11",
   "metadata": {},
   "outputs": [
    {
     "data": {
      "text/plain": [
       "9999.99"
      ]
     },
     "execution_count": 106,
     "metadata": {},
     "output_type": "execute_result"
    }
   ],
   "source": [
    "#input PV calculated using pv_one function\n",
    "finpy.fv_one(6209.21, 0.1, 5)"
   ]
  },
  {
   "cell_type": "markdown",
   "id": "729e6ad3",
   "metadata": {},
   "source": [
    "Basic Annuity functions"
   ]
  },
  {
   "cell_type": "code",
   "execution_count": 68,
   "id": "df2d934c",
   "metadata": {},
   "outputs": [
    {
     "data": {
      "text/plain": [
       "11.26"
      ]
     },
     "execution_count": 68,
     "metadata": {},
     "output_type": "execute_result"
    }
   ],
   "source": [
    "finpy.pv_ordinary_annuity(1, .08, 30)"
   ]
  },
  {
   "cell_type": "code",
   "execution_count": 86,
   "id": "01ef02aa",
   "metadata": {},
   "outputs": [
    {
     "data": {
      "text/plain": [
       "1644940.23"
      ]
     },
     "execution_count": 86,
     "metadata": {},
     "output_type": "execute_result"
    }
   ],
   "source": [
    "finpy.fv_ordinary_annuity(10000,.1,30)"
   ]
  },
  {
   "cell_type": "markdown",
   "id": "776fb4bf",
   "metadata": {},
   "source": [
    "Functions to calculate Annuity payments "
   ]
  },
  {
   "cell_type": "code",
   "execution_count": 100,
   "id": "facb166f",
   "metadata": {},
   "outputs": [
    {
     "data": {
      "text/plain": [
       "8107.82"
      ]
     },
     "execution_count": 100,
     "metadata": {},
     "output_type": "execute_result"
    }
   ],
   "source": [
    "finpy.pv_annuity_due(1000,0.05,10)"
   ]
  },
  {
   "cell_type": "code",
   "execution_count": 104,
   "id": "5db1173a",
   "metadata": {},
   "outputs": [
    {
     "data": {
      "text/plain": [
       "9507.36"
      ]
     },
     "execution_count": 104,
     "metadata": {},
     "output_type": "execute_result"
    }
   ],
   "source": [
    "finpy.fv_annuity_due(1200,0.08,6)"
   ]
  },
  {
   "cell_type": "markdown",
   "id": "c48d4f74",
   "metadata": {},
   "source": [
    "Growing Annuity and Perpetuity functions"
   ]
  },
  {
   "cell_type": "code",
   "execution_count": 114,
   "id": "39697d66",
   "metadata": {},
   "outputs": [
    {
     "data": {
      "text/plain": [
       "211567.35"
      ]
     },
     "execution_count": 114,
     "metadata": {},
     "output_type": "execute_result"
    }
   ],
   "source": [
    "finpy.growing_annuity(12000,0.08,0.03,45)"
   ]
  },
  {
   "cell_type": "code",
   "execution_count": 72,
   "id": "dad75bf0",
   "metadata": {},
   "outputs": [
    {
     "data": {
      "text/plain": [
       "375000.0"
      ]
     },
     "execution_count": 72,
     "metadata": {},
     "output_type": "execute_result"
    }
   ],
   "source": [
    "finpy.perpetuity(30000, 0.08)"
   ]
  },
  {
   "cell_type": "code",
   "execution_count": 73,
   "id": "a8b36526",
   "metadata": {},
   "outputs": [
    {
     "data": {
      "text/plain": [
       "4000000.0"
      ]
     },
     "execution_count": 73,
     "metadata": {},
     "output_type": "execute_result"
    }
   ],
   "source": [
    "finpy.growing_perpetuity(200000, 0.07, 0.02)"
   ]
  },
  {
   "cell_type": "code",
   "execution_count": 107,
   "id": "9de8f40b",
   "metadata": {},
   "outputs": [
    {
     "data": {
      "text/plain": [
       "500000.0"
      ]
     },
     "execution_count": 107,
     "metadata": {},
     "output_type": "execute_result"
    }
   ],
   "source": [
    "finpy.growing_perpetuity(10000, 0.05, 0.03) "
   ]
  },
  {
   "cell_type": "markdown",
   "id": "ab5de465",
   "metadata": {},
   "source": [
    "NPV of a Cash Flow, Payback Period, and Probability Index functions"
   ]
  },
  {
   "cell_type": "code",
   "execution_count": 76,
   "id": "c33a52a1",
   "metadata": {},
   "outputs": [
    {
     "data": {
      "text/plain": [
       "243.43"
      ]
     },
     "execution_count": 76,
     "metadata": {},
     "output_type": "execute_result"
    }
   ],
   "source": [
    "finpy.cash_flow_analysis(1000, [500,500,500], .1)"
   ]
  },
  {
   "cell_type": "code",
   "execution_count": 90,
   "id": "bacdec09",
   "metadata": {},
   "outputs": [
    {
     "data": {
      "text/plain": [
       "24890.66"
      ]
     },
     "execution_count": 90,
     "metadata": {},
     "output_type": "execute_result"
    }
   ],
   "source": [
    "finpy.cash_flow_analysis(0,[5000,8000,8000,8000],0.06)"
   ]
  },
  {
   "cell_type": "code",
   "execution_count": 77,
   "id": "41b5d0c0",
   "metadata": {},
   "outputs": [
    {
     "data": {
      "text/plain": [
       "3027.8"
      ]
     },
     "execution_count": 77,
     "metadata": {},
     "output_type": "execute_result"
    }
   ],
   "source": [
    "finpy.cash_flow_analysis(10000,[4000,5000,7000], 0.10)"
   ]
  },
  {
   "cell_type": "code",
   "execution_count": 79,
   "id": "5d98c18b",
   "metadata": {},
   "outputs": [
    {
     "data": {
      "text/plain": [
       "41.92"
      ]
     },
     "execution_count": 79,
     "metadata": {},
     "output_type": "execute_result"
    }
   ],
   "source": [
    "finpy.cash_flow_analysis(200,[200,800,-800], 0.10)"
   ]
  },
  {
   "cell_type": "code",
   "execution_count": 80,
   "id": "79aa2cfd",
   "metadata": {},
   "outputs": [
    {
     "data": {
      "text/plain": [
       "1.21"
      ]
     },
     "execution_count": 80,
     "metadata": {},
     "output_type": "execute_result"
    }
   ],
   "source": [
    "finpy.probability_index(200,[200,800,-800], 0.1)"
   ]
  },
  {
   "cell_type": "code",
   "execution_count": 81,
   "id": "024b42cd",
   "metadata": {},
   "outputs": [
    {
     "data": {
      "text/plain": [
       "90.8"
      ]
     },
     "execution_count": 81,
     "metadata": {},
     "output_type": "execute_result"
    }
   ],
   "source": [
    "finpy.cash_flow_analysis(150,[50,100,150], 0.1)"
   ]
  },
  {
   "cell_type": "code",
   "execution_count": 82,
   "id": "7d964686",
   "metadata": {},
   "outputs": [
    {
     "data": {
      "text/plain": [
       "1.61"
      ]
     },
     "execution_count": 82,
     "metadata": {},
     "output_type": "execute_result"
    }
   ],
   "source": [
    "finpy.probability_index(150,[50,100,150], 0.1)"
   ]
  },
  {
   "cell_type": "code",
   "execution_count": 83,
   "id": "160b0c1a",
   "metadata": {},
   "outputs": [
    {
     "data": {
      "text/plain": [
       "2.5"
      ]
     },
     "execution_count": 83,
     "metadata": {},
     "output_type": "execute_result"
    }
   ],
   "source": [
    "finpy.payback_period(10000,4000)\n"
   ]
  },
  {
   "cell_type": "code",
   "execution_count": 84,
   "id": "9a2f783b",
   "metadata": {},
   "outputs": [
    {
     "data": {
      "text/plain": [
       "1.3"
      ]
     },
     "execution_count": 84,
     "metadata": {},
     "output_type": "execute_result"
    }
   ],
   "source": [
    "finpy.probability_index(10000,[4000,5000,7000], 0.10)\n"
   ]
  },
  {
   "cell_type": "markdown",
   "id": "f5533f38",
   "metadata": {},
   "source": [
    "Loan/Annuity Payment functions"
   ]
  },
  {
   "cell_type": "code",
   "execution_count": 92,
   "id": "70fbfecc",
   "metadata": {},
   "outputs": [
    {
     "data": {
      "text/plain": [
       "1078.12"
      ]
     },
     "execution_count": 92,
     "metadata": {},
     "output_type": "execute_result"
    }
   ],
   "source": [
    "finpy.annuity_payment(60000,0.03/12,60)\n",
    "#note: 3% is an annual rate, but 60 periods is in months"
   ]
  },
  {
   "cell_type": "code",
   "execution_count": 75,
   "id": "52b2c912",
   "metadata": {},
   "outputs": [
    {
     "data": {
      "text/plain": [
       "'Error: Please enter positive values for principal, rate, and periods.'"
      ]
     },
     "execution_count": 75,
     "metadata": {},
     "output_type": "execute_result"
    }
   ],
   "source": [
    "finpy.annuity_payment(-60000,3,60)"
   ]
  },
  {
   "cell_type": "code",
   "execution_count": 108,
   "id": "48cfdff1",
   "metadata": {},
   "outputs": [
    {
     "data": {
      "text/plain": [
       "59964"
      ]
     },
     "execution_count": 108,
     "metadata": {},
     "output_type": "execute_result"
    }
   ],
   "source": [
    "finpy.total_interest_paid(10000,6, 36)"
   ]
  },
  {
   "cell_type": "code",
   "execution_count": 109,
   "id": "d9df96ca",
   "metadata": {},
   "outputs": [
    {
     "data": {
      "text/plain": [
       "60000"
      ]
     },
     "execution_count": 109,
     "metadata": {},
     "output_type": "execute_result"
    }
   ],
   "source": [
    "finpy.total_payments(10000,6)"
   ]
  },
  {
   "cell_type": "code",
   "execution_count": null,
   "id": "28d1ec4a",
   "metadata": {},
   "outputs": [],
   "source": []
  }
 ],
 "metadata": {
  "kernelspec": {
   "display_name": "Python 3 (ipykernel)",
   "language": "python",
   "name": "python3"
  },
  "language_info": {
   "codemirror_mode": {
    "name": "ipython",
    "version": 3
   },
   "file_extension": ".py",
   "mimetype": "text/x-python",
   "name": "python",
   "nbconvert_exporter": "python",
   "pygments_lexer": "ipython3",
   "version": "3.11.4"
  }
 },
 "nbformat": 4,
 "nbformat_minor": 5
}
